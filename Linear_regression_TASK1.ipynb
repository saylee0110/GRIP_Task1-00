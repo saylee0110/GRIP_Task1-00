{
  "nbformat": 4,
  "nbformat_minor": 0,
  "metadata": {
    "colab": {
      "name": "Linear_Regression Task 1.ipynb",
      "provenance": []
    },
    "kernelspec": {
      "name": "python3",
      "display_name": "Python 3"
    },
    "language_info": {
      "name": "python"
    }
  },
  "cells": [
    {
      "cell_type": "code",
      "execution_count": null,
      "metadata": {},
      "outputs": [],
      "source": [
        "The Sparks Foundation #June21\n",
        "\n",
        "Name: Saylee Deepak Borole\n",
        "\n",
        "GRIP Task 1 : Prediction using Supervised Ml\n",
        "\n",
        "Objective: Predict score based on hours of study."
      ]
    },
    {
      "cell_type": "markdown",
      "metadata": {
        "id": "n5R057_6KduN"
      },
      "source": [
        "# Prediction Using Supervised ML\n",
        "## Prediction Of Scores Using The No Of Study Hours of Students"
      ]
    },
    {
      "cell_type": "code",
      "metadata": {
        "id": "4uVCNHwR17-W"
      },
      "source": [
        "import numpy as np\n",
        "import matplotlib.pyplot as plt\n",
        "from sklearn.linear_model import LinearRegression\n",
        "import pandas as pd\n",
        "from sklearn.model_selection import train_test_split  "
      ],
      "execution_count": 4,
      "outputs": []
    },
    {
      "cell_type": "markdown",
      "metadata": {
        "id": "BIKMqbdPKEjk"
      },
      "source": [
        "## Importing And Reading Data"
      ]
    },
    {
      "cell_type": "code",
      "metadata": {
        "id": "fUSef8Vq2zpc"
      },
      "source": [
        "url = \"https://raw.githubusercontent.com/AdiPersonalWorks/Random/master/student_scores%20-%20student_scores.csv\""
      ],
      "execution_count": 5,
      "outputs": []
    },
    {
      "cell_type": "code",
      "metadata": {
        "id": "o0q_umD625Eq"
      },
      "source": [
        "data = pd.read_csv(url)"
      ],
      "execution_count": 6,
      "outputs": []
    },
    {
      "cell_type": "markdown",
      "metadata": {
        "id": "BYh_SrMSATDQ"
      },
      "source": [
        "# **Plotting Graph Hours Vs Score** "
      ]
    },
    {
      "cell_type": "code",
      "metadata": {
        "colab": {
          "base_uri": "https://localhost:8080/",
          "height": 312
        },
        "id": "Z01klEQC3Cqs",
        "outputId": "72464832-a6ec-497e-c949-e9a27b4e7edf"
      },
      "source": [
        "plt.scatter(data.Hours,data.Scores)\n",
        "plt.xlabel(\"No Of Hours\")\n",
        "plt.ylabel(\"Score\")\n",
        "plt.title(\"Hours Vs Score(In %)\")"
      ],
      "execution_count": 10,
      "outputs": [
        {
          "output_type": "execute_result",
          "data": {
            "text/plain": [
              "Text(0.5, 1.0, 'Hours Vs Score(In %)')"
            ]
          },
          "metadata": {
            "tags": []
          },
          "execution_count": 10
        },
        {
          "output_type": "display_data",
          "data": {
            "image/png": "[encoded data removed]",
            "text/plain": [
              "<Figure size 432x288 with 1 Axes>"
            ]
          },
          "metadata": {
            "tags": [],
            "needs_background": "light"
          }
        }
      ]
    },
    {
      "cell_type": "markdown",
      "metadata": {
        "id": "hlNRshCXF0g4"
      },
      "source": [
        "# **Preparing Data**"
      ]
    },
    {
      "cell_type": "code",
      "metadata": {
        "id": "W78FQv5q746N"
      },
      "source": [
        "X = data.iloc[:, :-1].values  \n",
        "y = data.iloc[:, 1].values  \n",
        "\n",
        "#print(X,y)"
      ],
      "execution_count": 93,
      "outputs": []
    },
    {
      "cell_type": "markdown",
      "metadata": {
        "id": "_3QVjjc8GLQi"
      },
      "source": [
        "### Splitting Data"
      ]
    },
    {
      "cell_type": "code",
      "metadata": {
        "id": "fOECnJFV66ZY"
      },
      "source": [
        "X_train, X_test, y_train, y_test = train_test_split(X,y , \n",
        "                            test_size=0.3, random_state=0) "
      ],
      "execution_count": 51,
      "outputs": []
    },
    {
      "cell_type": "markdown",
      "metadata": {
        "id": "RcHGwsAJ_5cL"
      },
      "source": [
        "# **Training Model**"
      ]
    },
    {
      "cell_type": "code",
      "metadata": {
        "colab": {
          "base_uri": "https://localhost:8080/"
        },
        "id": "T7k8JZ1r4DIc",
        "outputId": "4732b317-301f-46f9-e6db-7c2a6f69d41a"
      },
      "source": [
        "model = LinearRegression()\n",
        "model.fit(X_train,y_train)"
      ],
      "execution_count": 52,
      "outputs": [
        {
          "output_type": "execute_result",
          "data": {
            "text/plain": [
              "LinearRegression(copy_X=True, fit_intercept=True, n_jobs=None, normalize=False)"
            ]
          },
          "metadata": {
            "tags": []
          },
          "execution_count": 52
        }
      ]
    },
    {
      "cell_type": "markdown",
      "metadata": {
        "id": "BGevwFJg_ww9"
      },
      "source": [
        "### Slope And Y-Intercept"
      ]
    },
    {
      "cell_type": "code",
      "metadata": {
        "colab": {
          "base_uri": "https://localhost:8080/"
        },
        "id": "C75CBuyL4J6m",
        "outputId": "a73a58d6-e6c5-4db5-cd09-bf53e1334ec2"
      },
      "source": [
        "model.intercept_"
      ],
      "execution_count": 53,
      "outputs": [
        {
          "output_type": "execute_result",
          "data": {
            "text/plain": [
              "2.3708153823418883"
            ]
          },
          "metadata": {
            "tags": []
          },
          "execution_count": 53
        }
      ]
    },
    {
      "cell_type": "code",
      "metadata": {
        "colab": {
          "base_uri": "https://localhost:8080/"
        },
        "id": "kgl0QzBH8WZb",
        "outputId": "c8606174-df25-473d-9657-4e1293fa8a03"
      },
      "source": [
        "model.coef_"
      ],
      "execution_count": 54,
      "outputs": [
        {
          "output_type": "execute_result",
          "data": {
            "text/plain": [
              "array([9.78856669])"
            ]
          },
          "metadata": {
            "tags": []
          },
          "execution_count": 54
        }
      ]
    },
    {
      "cell_type": "markdown",
      "metadata": {
        "id": "o9K_Jnic-7mJ"
      },
      "source": [
        "# **Equation Of Line Of Regression**\n"
      ]
    },
    {
      "cell_type": "code",
      "metadata": {
        "id": "ZG5wbTBI8X_z"
      },
      "source": [
        "Line = model.coef_*X + model.intercept_"
      ],
      "execution_count": 55,
      "outputs": []
    },
    {
      "cell_type": "markdown",
      "metadata": {
        "id": "uWxUTT8x_jJr"
      },
      "source": [
        "# **Plotting Graph**"
      ]
    },
    {
      "cell_type": "code",
      "metadata": {
        "colab": {
          "base_uri": "https://localhost:8080/",
          "height": 312
        },
        "id": "mYyN8l6Y8mSw",
        "outputId": "cbf30330-441d-40a3-a8df-bb711f700f66"
      },
      "source": [
        "plt.scatter(X,y)\n",
        "plt.plot(X,Line)\n",
        "plt.xlabel(\"Hours\")\n",
        "plt.ylabel(\"Score (In %)\")\n",
        "plt.title(\"Linear Regression (Hours Vs Score)\")"
      ],
      "execution_count": 56,
      "outputs": [
        {
          "output_type": "execute_result",
          "data": {
            "text/plain": [
              "Text(0.5, 1.0, 'Linear Regression (Hours Vs Score)')"
            ]
          },
          "metadata": {
            "tags": []
          },
          "execution_count": 56
        },
        {
          "output_type": "display_data",
          "data": {
            "image/png": "[encoded data removed]",
            "text/plain": [
              "<Figure size 432x288 with 1 Axes>"
            ]
          },
          "metadata": {
            "tags": [],
            "needs_background": "light"
          }
        }
      ]
    },
    {
      "cell_type": "code",
      "metadata": {
        "colab": {
          "base_uri": "https://localhost:8080/"
        },
        "id": "ZC2Fr17Z8xUx",
        "outputId": "b061ff77-f1c5-4db5-82c3-80985e2d8d30"
      },
      "source": [
        "print(X_test)"
      ],
      "execution_count": 57,
      "outputs": [
        {
          "output_type": "stream",
          "text": [
            "[[1.5]\n",
            " [3.2]\n",
            " [7.4]\n",
            " [2.5]\n",
            " [5.9]\n",
            " [3.8]\n",
            " [1.9]\n",
            " [7.8]]\n"
          ],
          "name": "stdout"
        }
      ]
    },
    {
      "cell_type": "markdown",
      "metadata": {
        "id": "pNMLBKXXGSca"
      },
      "source": [
        "# **Predicting Score**"
      ]
    },
    {
      "cell_type": "code",
      "metadata": {
        "id": "xSRdE1lK9Z-5"
      },
      "source": [
        "Score_Prediction = model.predict(X_test)"
      ],
      "execution_count": 58,
      "outputs": []
    },
    {
      "cell_type": "code",
      "metadata": {
        "colab": {
          "base_uri": "https://localhost:8080/"
        },
        "id": "7R9xxu_m9s7_",
        "outputId": "e9291df0-3ee8-4625-85ef-028a8476764b"
      },
      "source": [
        "print(Score_Prediction)"
      ],
      "execution_count": 59,
      "outputs": [
        {
          "output_type": "stream",
          "text": [
            "[17.05366541 33.69422878 74.80620886 26.8422321  60.12335883 39.56736879\n",
            " 20.96909209 78.72163554]\n"
          ],
          "name": "stdout"
        }
      ]
    },
    {
      "cell_type": "markdown",
      "metadata": {
        "id": "6a2CGBZrGZ9x"
      },
      "source": [
        "## Comparing Actual Score And Predicted Score"
      ]
    },
    {
      "cell_type": "code",
      "metadata": {
        "colab": {
          "base_uri": "https://localhost:8080/",
          "height": 297
        },
        "id": "HEgCUsdQ9xoI",
        "outputId": "b42cb3a6-2d30-49b0-c13e-ec6b50d14d09"
      },
      "source": [
        "df = pd.DataFrame({'Actual': y_test, 'Predicted': Score_Prediction})  \n",
        "df "
      ],
      "execution_count": 60,
      "outputs": [
        {
          "output_type": "execute_result",
          "data": {
            "text/html": [
              "<div>\n",
              "<style scoped>\n",
              "    .dataframe tbody tr th:only-of-type {\n",
              "        vertical-align: middle;\n",
              "    }\n",
              "\n",
              "    .dataframe tbody tr th {\n",
              "        vertical-align: top;\n",
              "    }\n",
              "\n",
              "    .dataframe thead th {\n",
              "        text-align: right;\n",
              "    }\n",
              "</style>\n",
              "<table border=\"1\" class=\"dataframe\">\n",
              "  <thead>\n",
              "    <tr style=\"text-align: right;\">\n",
              "      <th></th>\n",
              "      <th>Actual</th>\n",
              "      <th>Predicted</th>\n",
              "    </tr>\n",
              "  </thead>\n",
              "  <tbody>\n",
              "    <tr>\n",
              "      <th>0</th>\n",
              "      <td>20</td>\n",
              "      <td>17.053665</td>\n",
              "    </tr>\n",
              "    <tr>\n",
              "      <th>1</th>\n",
              "      <td>27</td>\n",
              "      <td>33.694229</td>\n",
              "    </tr>\n",
              "    <tr>\n",
              "      <th>2</th>\n",
              "      <td>69</td>\n",
              "      <td>74.806209</td>\n",
              "    </tr>\n",
              "    <tr>\n",
              "      <th>3</th>\n",
              "      <td>30</td>\n",
              "      <td>26.842232</td>\n",
              "    </tr>\n",
              "    <tr>\n",
              "      <th>4</th>\n",
              "      <td>62</td>\n",
              "      <td>60.123359</td>\n",
              "    </tr>\n",
              "    <tr>\n",
              "      <th>5</th>\n",
              "      <td>35</td>\n",
              "      <td>39.567369</td>\n",
              "    </tr>\n",
              "    <tr>\n",
              "      <th>6</th>\n",
              "      <td>24</td>\n",
              "      <td>20.969092</td>\n",
              "    </tr>\n",
              "    <tr>\n",
              "      <th>7</th>\n",
              "      <td>86</td>\n",
              "      <td>78.721636</td>\n",
              "    </tr>\n",
              "  </tbody>\n",
              "</table>\n",
              "</div>"
            ],
            "text/plain": [
              "   Actual  Predicted\n",
              "0      20  17.053665\n",
              "1      27  33.694229\n",
              "2      69  74.806209\n",
              "3      30  26.842232\n",
              "4      62  60.123359\n",
              "5      35  39.567369\n",
              "6      24  20.969092\n",
              "7      86  78.721636"
            ]
          },
          "metadata": {
            "tags": []
          },
          "execution_count": 60
        }
      ]
    },
    {
      "cell_type": "code",
      "metadata": {
        "id": "t_0TsnXG95z4"
      },
      "source": [
        "h = [[9]]\n",
        "Pred = model.predict(h)\n",
        "if Pred > 100:\n",
        "  Pred = 100"
      ],
      "execution_count": 63,
      "outputs": []
    },
    {
      "cell_type": "code",
      "metadata": {
        "colab": {
          "base_uri": "https://localhost:8080/"
        },
        "id": "0PoJ9sTr-Go9",
        "outputId": "9b053a34-f535-4a83-e5ba-95a10180ba78"
      },
      "source": [
        "print(\"For {} Hours Predicted Score = {}\".format(h[0],Pred[0]))"
      ],
      "execution_count": 99,
      "outputs": [
        {
          "output_type": "stream",
          "text": [
            "For [9] Hours Predicted Score = 90.4679155630833\n"
          ],
          "name": "stdout"
        }
      ]
    },
    {
      "cell_type": "markdown",
      "metadata": {
        "id": "ZFTbMClnJ2Ry"
      },
      "source": [
        "# **Evaluation Of The Model**\n"
      ]
    },
    {
      "cell_type": "code",
      "metadata": {
        "colab": {
          "base_uri": "https://localhost:8080/"
        },
        "id": "eCeI5966FGyZ",
        "outputId": "27b6fa5e-78d0-4665-c9ee-6428db367c10"
      },
      "source": [
        "from sklearn import metrics  \n",
        "print('Mean Absolute Error:', \n",
        "      metrics.mean_absolute_error(y_test, y_pred)) "
      ],
      "execution_count": 92,
      "outputs": [
        {
          "output_type": "stream",
          "text": [
            "Mean Absolute Error: 4.419727808027651\n"
          ],
          "name": "stdout"
        }
      ]
    },
    {
      "cell_type": "code",
      "metadata": {
        "id": "zmtmmgVyFVyW"
      },
      "source": [],
      "execution_count": null,
      "outputs": []
    }
  ]
}